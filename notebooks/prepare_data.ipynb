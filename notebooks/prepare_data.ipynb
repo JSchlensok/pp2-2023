{
 "cells": [
  {
   "cell_type": "code",
   "execution_count": 1,
   "metadata": {},
   "outputs": [
    {
     "name": "stdout",
     "output_type": "stream",
     "text": [
      "/home/user/Documents/Uni/Master/PP2/pp2-2023\n"
     ]
    },
    {
     "data": {
      "text/plain": [
       "'/home/user/Documents/Uni/Master/PP2/pp2-2023'"
      ]
     },
     "execution_count": 1,
     "metadata": {},
     "output_type": "execute_result"
    }
   ],
   "source": [
    "%cd ..\n",
    "%pwd"
   ]
  },
  {
   "cell_type": "code",
   "execution_count": 2,
   "metadata": {},
   "outputs": [],
   "source": [
    "from pathlib import Path\n",
    "from typing import Union\n",
    "\n",
    "import polars as pl\n",
    "from Bio import SeqIO\n",
    "\n",
    "from src.dataset.trizod_scores.parse import read_score_csv\n",
    "\n",
    "from typing import Set\n",
    "import h5py\n",
    "import torch\n",
    "import numpy as np\n",
    "from collections import defaultdict"
   ]
  },
  {
   "cell_type": "code",
   "execution_count": 3,
   "metadata": {},
   "outputs": [],
   "source": [
    "def read_cluster_assignments(filepath: Union[Path, str]) -> pl.DataFrame:\n",
    "    return pl.read_csv(\n",
    "        filepath,\n",
    "        separator=\"\\t\",\n",
    "        has_header=False,\n",
    "        new_columns=[\"cluster_representative_id\", \"sequence_id\"]\n",
    "    )\n",
    "\n",
    "def filter_scores(score_csv: pl.DataFrame, ids: Set[str]) -> pl.DataFrame:\n",
    "    return score_csv.filter(score_csv[\"ID\"].is_in(ids))[\n",
    "        [\"ID\", \"pscores\"]\n",
    "    ].group_by(\"ID\").agg(pl.col(\"pscores\"))\n",
    "\n",
    "def to_file(data: pl.DataFrame, embs: h5py.File, name: str):\n",
    "    with h5py.File(f\"data/{name}.h5\", 'w') as f:\n",
    "        embedding = f.create_group(\"embedding\")\n",
    "        trizod = f.create_group(\"trizod\")\n",
    "        cluster_group: Group = f.create_group(\"cluster\")\n",
    "        cluster = defaultdict(list)\n",
    "\n",
    "        for row in data.rows():\n",
    "            cluster[row[2]].append(row[0])\n",
    "            trizod[row[0]] = torch.tensor(np.array(row[1], dtype=np.float32))\n",
    "            embedding[row[0]] = torch.tensor(embs[row[0]])\n",
    "\n",
    "        for key in cluster:\n",
    "            cluster_group[key] = cluster[key]\n",
    "        "
   ]
  },
  {
   "cell_type": "code",
   "execution_count": 4,
   "metadata": {},
   "outputs": [],
   "source": [
    "datasets = [\"unfiltered\", \"tolerant\", \"moderate\", \"strict\"]\n",
    "clusters = {\n",
    "    dataset: read_cluster_assignments(f\"data/clusters/{dataset}_rest_clu.tsv\")\n",
    "    for dataset in datasets\n",
    "}\n",
    "score_csv = {dataset: read_score_csv(f\"data/{dataset}.csv\") for dataset in datasets}\n",
    "embs = h5py.File(\"data/embeddings/unfiltered_all_esm2_3b.h5\", \"r\")\n"
   ]
  },
  {
   "cell_type": "code",
   "execution_count": 5,
   "metadata": {},
   "outputs": [],
   "source": [
    "ids = {dataset: set(score_csv[dataset][\"ID\"]) for dataset in score_csv}\n",
    "test_ids = set(rec.id for rec in SeqIO.parse(f\"data/TriZOD_test_set.fasta\", \"fasta\"))"
   ]
  },
  {
   "cell_type": "code",
   "execution_count": 6,
   "metadata": {},
   "outputs": [],
   "source": [
    "train_ids = {dataset: ids[dataset] - test_ids for dataset in ids}"
   ]
  },
  {
   "cell_type": "code",
   "execution_count": 7,
   "metadata": {},
   "outputs": [],
   "source": [
    "test_data = filter_scores(score_csv[\"strict\"], test_ids)\n",
    "training_data = {\n",
    "    dataset: filter_scores(score_csv[dataset], train_ids[dataset])\n",
    "    for dataset in datasets\n",
    "}\n"
   ]
  },
  {
   "cell_type": "code",
   "execution_count": 8,
   "metadata": {},
   "outputs": [],
   "source": [
    "training_data = {\n",
    "    dataset: training_data[dataset].join(clusters[dataset], left_on=\"ID\", right_on=\"sequence_id\")\n",
    "    for dataset in datasets\n",
    "}\n",
    "\n",
    "test_data = test_data.with_columns(test_data[\"ID\"].alias(\"cluster_representative_id\"))"
   ]
  },
  {
   "cell_type": "code",
   "execution_count": 9,
   "metadata": {},
   "outputs": [
    {
     "name": "stderr",
     "output_type": "stream",
     "text": [
      "/tmp/ipykernel_49319/1528978107.py:24: UserWarning: Creating a tensor from a list of numpy.ndarrays is extremely slow. Please consider converting the list to a single numpy.ndarray with numpy.array() before converting to a tensor. (Triggered internally at ../torch/csrc/utils/tensor_new.cpp:261.)\n",
      "  embedding[row[0]] = torch.tensor(embs[row[0]])\n"
     ]
    }
   ],
   "source": [
    "to_file(test_data, embs, \"test\")\n",
    "\n",
    "for dataset in datasets:\n",
    "    to_file(training_data[dataset], embs, f\"train_{dataset}\")"
   ]
  }
 ],
 "metadata": {
  "kernelspec": {
   "display_name": "pp2",
   "language": "python",
   "name": "python3"
  },
  "language_info": {
   "codemirror_mode": {
    "name": "ipython",
    "version": 3
   },
   "file_extension": ".py",
   "mimetype": "text/x-python",
   "name": "python",
   "nbconvert_exporter": "python",
   "pygments_lexer": "ipython3",
   "version": "3.11.6"
  }
 },
 "nbformat": 4,
 "nbformat_minor": 2
}

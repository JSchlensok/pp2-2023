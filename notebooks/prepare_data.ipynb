{
 "cells": [
  {
   "cell_type": "code",
   "execution_count": 1,
   "metadata": {},
   "outputs": [
    {
     "name": "stdout",
     "output_type": "stream",
     "text": [
      "/home/julius/projects/University/2023W/PP2/Project\n"
     ]
    },
    {
     "data": {
      "text/plain": [
       "'/home/julius/projects/University/2023W/PP2/Project'"
      ]
     },
     "execution_count": 1,
     "metadata": {},
     "output_type": "execute_result"
    }
   ],
   "source": [
    "%cd ..\n",
    "%pwd"
   ]
  },
  {
   "cell_type": "code",
   "execution_count": 14,
   "metadata": {},
   "outputs": [],
   "source": [
    "from pathlib import Path\n",
    "from typing import Union\n",
    "\n",
    "import polars as pl\n",
    "from Bio import SeqIO\n",
    "\n",
    "from src.dataset.trizod_scores.parse import read_score_csv\n",
    "from src.dataset.clustering.parse import read_cluster_assignments\n",
    "\n",
    "from typing import Set\n",
    "import h5py\n",
    "import torch\n",
    "import numpy as np\n",
    "from collections import defaultdict\n",
    "from tqdm import tqdm"
   ]
  },
  {
   "cell_type": "code",
   "execution_count": 3,
   "metadata": {},
   "outputs": [],
   "source": [
    "def filter_scores(score_csv: pl.DataFrame, ids: Set[str]) -> pl.DataFrame:\n",
    "    return score_csv.filter(score_csv[\"ID\"].is_in(ids))[\n",
    "        [\"ID\", \"pscores\"]\n",
    "    ].group_by(\"ID\").agg(pl.col(\"pscores\"))\n",
    "\n",
    "def to_file(data: pl.DataFrame, embs: h5py.File, name: str):\n",
    "    with h5py.File(f\"data/{name}.h5\", 'w') as f:\n",
    "        embedding = f.create_group(\"embedding\")\n",
    "        trizod = f.create_group(\"trizod\")\n",
    "        cluster_group: Group = f.create_group(\"cluster\")\n",
    "        cluster = defaultdict(list)\n",
    "\n",
    "        for row in data.rows():\n",
    "            cluster[row[2]].append(row[0])\n",
    "            trizod[row[0]] = torch.tensor(np.array(row[1], dtype=np.float32))\n",
    "            embedding[row[0]] = torch.tensor(np.array(embs[row[0]]))\n",
    "\n",
    "        for key in cluster:\n",
    "            cluster_group[key] = cluster[key]\n",
    "        "
   ]
  },
  {
   "cell_type": "code",
   "execution_count": 15,
   "metadata": {},
   "outputs": [],
   "source": [
    "datasets = [\"unfiltered\", \"tolerant\", \"moderate\", \"strict\"]\n",
    "clusters = {\n",
    "    dataset: read_cluster_assignments(f\"data/clusters/{dataset}_rest_clu.tsv\")\n",
    "    for dataset in datasets\n",
    "}\n",
    "score_csv = {dataset: read_score_csv(f\"data/{dataset}.csv\") for dataset in datasets}\n",
    "embs = h5py.File(\"data/embeddings/unfiltered_all_esm2_3b.h5\", \"r\")\n"
   ]
  },
  {
   "cell_type": "code",
   "execution_count": 5,
   "metadata": {},
   "outputs": [],
   "source": [
    "ids = {dataset: set(score_csv[dataset][\"ID\"]) for dataset in score_csv}\n",
    "test_ids = set(rec.id for rec in SeqIO.parse(f\"data/TriZOD_test_set.fasta\", \"fasta\"))"
   ]
  },
  {
   "cell_type": "code",
   "execution_count": 6,
   "metadata": {},
   "outputs": [],
   "source": [
    "train_ids = {dataset: ids[dataset] - test_ids for dataset in ids}"
   ]
  },
  {
   "cell_type": "code",
   "execution_count": 7,
   "metadata": {},
   "outputs": [],
   "source": [
    "test_data = filter_scores(score_csv[\"strict\"], test_ids)\n",
    "training_data = {\n",
    "    dataset: filter_scores(score_csv[dataset], train_ids[dataset])\n",
    "    for dataset in datasets\n",
    "}\n"
   ]
  },
  {
   "cell_type": "code",
   "execution_count": 8,
   "metadata": {},
   "outputs": [],
   "source": [
    "training_data = {\n",
    "    dataset: training_data[dataset].join(clusters[dataset], left_on=\"ID\", right_on=\"sequence_id\")\n",
    "    for dataset in datasets\n",
    "}\n",
    "\n",
    "test_data = test_data.with_columns(test_data[\"ID\"].alias(\"cluster_representative_id\"))"
   ]
  },
  {
   "cell_type": "code",
   "execution_count": 9,
   "metadata": {},
   "outputs": [
    {
     "data": {
      "text/plain": [
       "{'unfiltered': shape: (13_290, 3)\n",
       " ┌──────────────┬────────────────────────┬───────────────────────────┐\n",
       " │ ID           ┆ pscores                ┆ cluster_representative_id │\n",
       " │ ---          ┆ ---                    ┆ ---                       │\n",
       " │ str          ┆ list[f64]              ┆ str                       │\n",
       " ╞══════════════╪════════════════════════╪═══════════════════════════╡\n",
       " │ 27821_1_1_1  ┆ [null, null, … null]   ┆ 27821_1_1_1               │\n",
       " │ 4620_1_1_1   ┆ [null, 0.5436, … null] ┆ 15845_1_1_1               │\n",
       " │ 16574_1_2_2  ┆ [null, 0.2467, … null] ┆ 16574_1_2_2               │\n",
       " │ 19879_1_1_1  ┆ [null, 0.0998, … null] ┆ 19879_1_1_1               │\n",
       " │ …            ┆ …                      ┆ …                         │\n",
       " │ 5156_2_1_1   ┆ [null, null, … null]   ┆ 5156_2_1_1                │\n",
       " │ 6836_1_1_1   ┆ [null, null, … null]   ┆ 6836_1_1_1                │\n",
       " │ 50525_1_1_1  ┆ [null, null, … null]   ┆ 50525_1_1_1               │\n",
       " │ 50438_22_1_1 ┆ [null, null, … null]   ┆ 11609_1_1_1               │\n",
       " └──────────────┴────────────────────────┴───────────────────────────┘,\n",
       " 'tolerant': shape: (12_110, 3)\n",
       " ┌─────────────┬────────────────────────┬───────────────────────────┐\n",
       " │ ID          ┆ pscores                ┆ cluster_representative_id │\n",
       " │ ---         ┆ ---                    ┆ ---                       │\n",
       " │ str         ┆ list[f64]              ┆ str                       │\n",
       " ╞═════════════╪════════════════════════╪═══════════════════════════╡\n",
       " │ 5945_2_2_2  ┆ [null, 0.5097, … null] ┆ 5945_2_2_2                │\n",
       " │ 17344_1_2_2 ┆ [null, 0.1801, … null] ┆ 17344_1_2_2               │\n",
       " │ 4136_1_1_1  ┆ [null, 0.1098, … null] ┆ 4136_1_1_1                │\n",
       " │ 26885_1_1_1 ┆ [null, 0.7512, … null] ┆ 26886_1_1_1               │\n",
       " │ …           ┆ …                      ┆ …                         │\n",
       " │ 19141_1_1_1 ┆ [null, null, … null]   ┆ 7168_3_1_1                │\n",
       " │ 5036_1_1_1  ┆ [null, null, … null]   ┆ 11158_1_1_1               │\n",
       " │ 6161_1_1_1  ┆ [null, 0.7953, … null] ┆ 6162_1_1_1                │\n",
       " │ 10093_1_1_1 ┆ [null, 0.7062, … null] ┆ 10093_1_1_1               │\n",
       " └─────────────┴────────────────────────┴───────────────────────────┘,\n",
       " 'moderate': shape: (8_372, 3)\n",
       " ┌─────────────┬────────────────────────┬───────────────────────────┐\n",
       " │ ID          ┆ pscores                ┆ cluster_representative_id │\n",
       " │ ---         ┆ ---                    ┆ ---                       │\n",
       " │ str         ┆ list[f64]              ┆ str                       │\n",
       " ╞═════════════╪════════════════════════╪═══════════════════════════╡\n",
       " │ 6875_1_1_1  ┆ [null, null, … null]   ┆ 6875_1_1_1                │\n",
       " │ 19049_1_1_1 ┆ [null, 0.6664, … null] ┆ 31057_1_1_1               │\n",
       " │ 7079_1_1_1  ┆ [null, 0.132, … null]  ┆ 7079_1_1_1                │\n",
       " │ 36048_1_1_1 ┆ [null, 0.4409, … null] ┆ 36048_1_1_1               │\n",
       " │ …           ┆ …                      ┆ …                         │\n",
       " │ 21100_1_1_1 ┆ [null, 0.233, … null]  ┆ 21100_1_1_1               │\n",
       " │ 15627_1_1_1 ┆ [null, null, … null]   ┆ 15627_1_1_1               │\n",
       " │ 30579_1_1_1 ┆ [null, 0.4179, … null] ┆ 30579_1_1_1               │\n",
       " │ 11569_1_1_1 ┆ [null, null, … null]   ┆ 11569_1_1_1               │\n",
       " └─────────────┴────────────────────────┴───────────────────────────┘,\n",
       " 'strict': shape: (1_343, 3)\n",
       " ┌─────────────┬────────────────────────┬───────────────────────────┐\n",
       " │ ID          ┆ pscores                ┆ cluster_representative_id │\n",
       " │ ---         ┆ ---                    ┆ ---                       │\n",
       " │ str         ┆ list[f64]              ┆ str                       │\n",
       " ╞═════════════╪════════════════════════╪═══════════════════════════╡\n",
       " │ 30676_1_1_1 ┆ [null, 0.0746, … null] ┆ 30676_1_1_1               │\n",
       " │ 36111_1_1_1 ┆ [null, 0.4194, … null] ┆ 36111_1_1_1               │\n",
       " │ 16413_1_1_1 ┆ [null, null, … null]   ┆ 16413_1_1_1               │\n",
       " │ 19438_1_1_1 ┆ [null, 0.0352, … null] ┆ 19438_1_1_1               │\n",
       " │ …           ┆ …                      ┆ …                         │\n",
       " │ 51126_1_1_1 ┆ [null, null, … null]   ┆ 51126_1_1_1               │\n",
       " │ 30084_3_3_1 ┆ [null, 0.0744, … null] ┆ 30084_3_3_1               │\n",
       " │ 27290_1_1_1 ┆ [null, 0.8783, … null] ┆ 27290_1_1_1               │\n",
       " │ 16818_1_1_1 ┆ [null, 0.7035, … null] ┆ 16848_1_1_1               │\n",
       " └─────────────┴────────────────────────┴───────────────────────────┘}"
      ]
     },
     "execution_count": 9,
     "metadata": {},
     "output_type": "execute_result"
    }
   ],
   "source": [
    "training_data"
   ]
  },
  {
   "cell_type": "code",
   "execution_count": 10,
   "metadata": {},
   "outputs": [],
   "source": [
    "%timeit -n 1 -r 1\n",
    "to_file(test_data, embs, \"test\")\n",
    "\n",
    "for dataset in datasets:\n",
    "    to_file(training_data[dataset], embs, f\"train_{dataset}\")"
   ]
  },
  {
   "cell_type": "code",
   "execution_count": 12,
   "metadata": {},
   "outputs": [
    {
     "data": {
      "text/html": [
       "<div><style>\n",
       ".dataframe > thead > tr > th,\n",
       ".dataframe > tbody > tr > td {\n",
       "  text-align: right;\n",
       "  white-space: pre-wrap;\n",
       "}\n",
       "</style>\n",
       "<small>shape: (1_582_858, 18)</small><table border=\"1\" class=\"dataframe\"><thead><tr><th></th><th>ID</th><th>entryID</th><th>stID</th><th>entity_assemID</th><th>entityID</th><th>seq_index</th><th>seq</th><th>k</th><th>zscores</th><th>pscores</th><th>C</th><th>CA</th><th>CB</th><th>HA</th><th>H</th><th>N</th><th>HB</th></tr><tr><td>i64</td><td>str</td><td>i64</td><td>i64</td><td>i64</td><td>i64</td><td>i64</td><td>str</td><td>i64</td><td>f64</td><td>f64</td><td>f64</td><td>f64</td><td>f64</td><td>f64</td><td>f64</td><td>f64</td><td>f64</td></tr></thead><tbody><tr><td>0</td><td>&quot;36025_1_1_1&quot;</td><td>36025</td><td>1</td><td>1</td><td>1</td><td>1</td><td>&quot;F&quot;</td><td>2</td><td>null</td><td>null</td><td>null</td><td>null</td><td>null</td><td>null</td><td>null</td><td>null</td><td>null</td></tr><tr><td>0</td><td>&quot;36025_1_1_1&quot;</td><td>36025</td><td>1</td><td>1</td><td>1</td><td>2</td><td>&quot;I&quot;</td><td>5</td><td>7.1754</td><td>0.0594</td><td>null</td><td>null</td><td>null</td><td>3.888</td><td>null</td><td>null</td><td>1.893</td></tr><tr><td>0</td><td>&quot;36025_1_1_1&quot;</td><td>36025</td><td>1</td><td>1</td><td>1</td><td>3</td><td>&quot;H&quot;</td><td>8</td><td>8.7949</td><td>0.0733</td><td>null</td><td>null</td><td>null</td><td>4.434</td><td>8.585</td><td>null</td><td>3.156</td></tr><tr><td>0</td><td>&quot;36025_1_1_1&quot;</td><td>36025</td><td>1</td><td>1</td><td>1</td><td>4</td><td>&quot;H&quot;</td><td>9</td><td>8.643</td><td>0.1185</td><td>null</td><td>null</td><td>null</td><td>4.63</td><td>8.419</td><td>null</td><td>3.254</td></tr><tr><td>0</td><td>&quot;36025_1_1_1&quot;</td><td>36025</td><td>1</td><td>1</td><td>1</td><td>5</td><td>&quot;I&quot;</td><td>9</td><td>8.1347</td><td>0.156</td><td>null</td><td>null</td><td>null</td><td>3.907</td><td>8.06</td><td>null</td><td>1.94</td></tr><tr><td>0</td><td>&quot;36025_1_1_1&quot;</td><td>36025</td><td>1</td><td>1</td><td>1</td><td>6</td><td>&quot;I&quot;</td><td>8</td><td>6.6576</td><td>0.2457</td><td>null</td><td>null</td><td>null</td><td>3.731</td><td>8.055</td><td>null</td><td>1.906</td></tr><tr><td>0</td><td>&quot;36025_1_1_1&quot;</td><td>36025</td><td>1</td><td>1</td><td>1</td><td>7</td><td>&quot;G&quot;</td><td>7</td><td>4.5009</td><td>0.4333</td><td>null</td><td>null</td><td>null</td><td>3.8725</td><td>8.304</td><td>null</td><td>null</td></tr><tr><td>0</td><td>&quot;36025_1_1_1&quot;</td><td>36025</td><td>1</td><td>1</td><td>1</td><td>8</td><td>&quot;G&quot;</td><td>7</td><td>6.2927</td><td>0.241</td><td>null</td><td>null</td><td>null</td><td>3.868</td><td>8.089</td><td>null</td><td>null</td></tr><tr><td>0</td><td>&quot;36025_1_1_1&quot;</td><td>36025</td><td>1</td><td>1</td><td>1</td><td>9</td><td>&quot;L&quot;</td><td>8</td><td>8.5087</td><td>0.0931</td><td>null</td><td>null</td><td>null</td><td>4.044</td><td>8.236</td><td>null</td><td>1.885</td></tr><tr><td>0</td><td>&quot;36025_1_1_1&quot;</td><td>36025</td><td>1</td><td>1</td><td>1</td><td>10</td><td>&quot;F&quot;</td><td>9</td><td>10.629</td><td>0.0</td><td>null</td><td>null</td><td>null</td><td>4.317</td><td>8.373</td><td>null</td><td>3.234</td></tr><tr><td>0</td><td>&quot;36025_1_1_1&quot;</td><td>36025</td><td>1</td><td>1</td><td>1</td><td>11</td><td>&quot;S&quot;</td><td>9</td><td>10.5355</td><td>0.0046</td><td>null</td><td>null</td><td>null</td><td>4.171</td><td>8.241</td><td>null</td><td>4.005</td></tr><tr><td>0</td><td>&quot;36025_1_1_1&quot;</td><td>36025</td><td>1</td><td>1</td><td>1</td><td>12</td><td>&quot;A&quot;</td><td>8</td><td>9.934</td><td>0.0052</td><td>null</td><td>null</td><td>null</td><td>4.122</td><td>8.373</td><td>null</td><td>1.466</td></tr><tr><td>&hellip;</td><td>&hellip;</td><td>&hellip;</td><td>&hellip;</td><td>&hellip;</td><td>&hellip;</td><td>&hellip;</td><td>&hellip;</td><td>&hellip;</td><td>&hellip;</td><td>&hellip;</td><td>&hellip;</td><td>&hellip;</td><td>&hellip;</td><td>&hellip;</td><td>&hellip;</td><td>&hellip;</td><td>&hellip;</td></tr><tr><td>15319</td><td>&quot;4944_1_1_1&quot;</td><td>4944</td><td>1</td><td>1</td><td>1</td><td>120</td><td>&quot;E&quot;</td><td>18</td><td>13.1783</td><td>0.0697</td><td>181.7</td><td>58.05</td><td>28.7</td><td>3.98</td><td>8.6</td><td>126.02</td><td>null</td></tr><tr><td>15319</td><td>&quot;4944_1_1_1&quot;</td><td>4944</td><td>1</td><td>1</td><td>1</td><td>121</td><td>&quot;I&quot;</td><td>18</td><td>14.0784</td><td>0.0323</td><td>176.54</td><td>64.63</td><td>35.78</td><td>3.3</td><td>8.15</td><td>123.93</td><td>null</td></tr><tr><td>15319</td><td>&quot;4944_1_1_1&quot;</td><td>4944</td><td>1</td><td>1</td><td>1</td><td>122</td><td>&quot;K&quot;</td><td>18</td><td>14.0784</td><td>0.0323</td><td>177.48</td><td>59.07</td><td>31.23</td><td>3.87</td><td>7.2</td><td>121.22</td><td>null</td></tr><tr><td>15319</td><td>&quot;4944_1_1_1&quot;</td><td>4944</td><td>1</td><td>1</td><td>1</td><td>123</td><td>&quot;L&quot;</td><td>18</td><td>14.9615</td><td>0.0</td><td>179.36</td><td>56.02</td><td>40.34</td><td>3.91</td><td>7.17</td><td>117.77</td><td>null</td></tr><tr><td>15319</td><td>&quot;4944_1_1_1&quot;</td><td>4944</td><td>1</td><td>1</td><td>1</td><td>124</td><td>&quot;A&quot;</td><td>18</td><td>14.4442</td><td>0.0184</td><td>182.4</td><td>53.5</td><td>17.06</td><td>3.78</td><td>7.61</td><td>121.34</td><td>null</td></tr><tr><td>15319</td><td>&quot;4944_1_1_1&quot;</td><td>4944</td><td>1</td><td>1</td><td>1</td><td>125</td><td>&quot;I&quot;</td><td>18</td><td>14.4442</td><td>0.0184</td><td>177.24</td><td>64.13</td><td>35.78</td><td>3.76</td><td>7.99</td><td>121.83</td><td>null</td></tr><tr><td>15319</td><td>&quot;4944_1_1_1&quot;</td><td>4944</td><td>1</td><td>1</td><td>1</td><td>126</td><td>&quot;E&quot;</td><td>18</td><td>13.9104</td><td>0.0389</td><td>181.0</td><td>59.07</td><td>28.19</td><td>3.81</td><td>8.66</td><td>122.57</td><td>null</td></tr><tr><td>15319</td><td>&quot;4944_1_1_1&quot;</td><td>4944</td><td>1</td><td>1</td><td>1</td><td>127</td><td>&quot;K&quot;</td><td>18</td><td>14.4443</td><td>0.0184</td><td>181.0</td><td>58.05</td><td>30.72</td><td>3.86</td><td>8.19</td><td>118.51</td><td>null</td></tr><tr><td>15319</td><td>&quot;4944_1_1_1&quot;</td><td>4944</td><td>1</td><td>1</td><td>1</td><td>128</td><td>&quot;F&quot;</td><td>18</td><td>13.6489</td><td>0.0496</td><td>177.48</td><td>60.08</td><td>38.31</td><td>4.04</td><td>7.79</td><td>122.94</td><td>null</td></tr><tr><td>15319</td><td>&quot;4944_1_1_1&quot;</td><td>4944</td><td>1</td><td>1</td><td>1</td><td>129</td><td>&quot;K&quot;</td><td>18</td><td>13.3487</td><td>0.0623</td><td>176.55</td><td>57.55</td><td>31.73</td><td>4.42</td><td>8.04</td><td>120.97</td><td>null</td></tr><tr><td>15319</td><td>&quot;4944_1_1_1&quot;</td><td>4944</td><td>1</td><td>1</td><td>1</td><td>130</td><td>&quot;L&quot;</td><td>12</td><td>10.2178</td><td>0.1022</td><td>176.55</td><td>53.5</td><td>41.35</td><td>4.23</td><td>7.04</td><td>117.4</td><td>null</td></tr><tr><td>15319</td><td>&quot;4944_1_1_1&quot;</td><td>4944</td><td>1</td><td>1</td><td>1</td><td>131</td><td>&quot;R&quot;</td><td>6</td><td>null</td><td>null</td><td>184.51</td><td>58.56</td><td>29.71</td><td>3.79</td><td>7.17</td><td>126.39</td><td>null</td></tr></tbody></table></div>"
      ],
      "text/plain": [
       "shape: (1_582_858, 18)\n",
       "┌───────┬─────────────┬─────────┬──────┬───┬───────┬───────┬────────┬───────┐\n",
       "│       ┆ ID          ┆ entryID ┆ stID ┆ … ┆ HA    ┆ H     ┆ N      ┆ HB    │\n",
       "│ ---   ┆ ---         ┆ ---     ┆ ---  ┆   ┆ ---   ┆ ---   ┆ ---    ┆ ---   │\n",
       "│ i64   ┆ str         ┆ i64     ┆ i64  ┆   ┆ f64   ┆ f64   ┆ f64    ┆ f64   │\n",
       "╞═══════╪═════════════╪═════════╪══════╪═══╪═══════╪═══════╪════════╪═══════╡\n",
       "│ 0     ┆ 36025_1_1_1 ┆ 36025   ┆ 1    ┆ … ┆ null  ┆ null  ┆ null   ┆ null  │\n",
       "│ 0     ┆ 36025_1_1_1 ┆ 36025   ┆ 1    ┆ … ┆ 3.888 ┆ null  ┆ null   ┆ 1.893 │\n",
       "│ 0     ┆ 36025_1_1_1 ┆ 36025   ┆ 1    ┆ … ┆ 4.434 ┆ 8.585 ┆ null   ┆ 3.156 │\n",
       "│ 0     ┆ 36025_1_1_1 ┆ 36025   ┆ 1    ┆ … ┆ 4.63  ┆ 8.419 ┆ null   ┆ 3.254 │\n",
       "│ …     ┆ …           ┆ …       ┆ …    ┆ … ┆ …     ┆ …     ┆ …      ┆ …     │\n",
       "│ 15319 ┆ 4944_1_1_1  ┆ 4944    ┆ 1    ┆ … ┆ 4.04  ┆ 7.79  ┆ 122.94 ┆ null  │\n",
       "│ 15319 ┆ 4944_1_1_1  ┆ 4944    ┆ 1    ┆ … ┆ 4.42  ┆ 8.04  ┆ 120.97 ┆ null  │\n",
       "│ 15319 ┆ 4944_1_1_1  ┆ 4944    ┆ 1    ┆ … ┆ 4.23  ┆ 7.04  ┆ 117.4  ┆ null  │\n",
       "│ 15319 ┆ 4944_1_1_1  ┆ 4944    ┆ 1    ┆ … ┆ 3.79  ┆ 7.17  ┆ 126.39 ┆ null  │\n",
       "└───────┴─────────────┴─────────┴──────┴───┴───────┴───────┴────────┴───────┘"
      ]
     },
     "execution_count": 12,
     "metadata": {},
     "output_type": "execute_result"
    }
   ],
   "source": [
    "read_score_csv(\"data/unfiltered.csv\")"
   ]
  }
 ],
 "metadata": {
  "kernelspec": {
   "display_name": "pp2",
   "language": "python",
   "name": "python3"
  },
  "language_info": {
   "codemirror_mode": {
    "name": "ipython",
    "version": 3
   },
   "file_extension": ".py",
   "mimetype": "text/x-python",
   "name": "python",
   "nbconvert_exporter": "python",
   "pygments_lexer": "ipython3",
   "version": "3.12.0"
  }
 },
 "nbformat": 4,
 "nbformat_minor": 2
}

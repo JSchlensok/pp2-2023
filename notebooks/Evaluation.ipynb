{
 "cells": [
  {
   "cell_type": "code",
   "execution_count": 2,
   "metadata": {},
   "outputs": [
    {
     "name": "stdout",
     "output_type": "stream",
     "text": [
      "/home/julius/projects/University/2023W/PP2/Project\n"
     ]
    },
    {
     "data": {
      "text/plain": [
       "'/home/julius/projects/University/2023W/PP2/Project'"
      ]
     },
     "execution_count": 2,
     "metadata": {},
     "output_type": "execute_result"
    }
   ],
   "source": [
    "%cd ..\n",
    "%pwd"
   ]
  },
  {
   "cell_type": "code",
   "execution_count": 20,
   "metadata": {},
   "outputs": [],
   "source": [
    "import yaml\n",
    "from pathlib import Path\n",
    "\n",
    "import torch\n",
    "from tqdm import tqdm\n",
    "\n",
    "from src.models import FNN, SETHClone"
   ]
  },
  {
   "cell_type": "code",
   "execution_count": null,
   "metadata": {},
   "outputs": [],
   "source": [
    "embedding_dimensions = {\"prott5\": 1024, \"esm2_3b\": 2560}\n",
    "model_classes = {\"fnn\": FNN, \"cnn\": SETHClone}"
   ]
  },
  {
   "cell_type": "code",
   "execution_count": 36,
   "metadata": {},
   "outputs": [],
   "source": [
    "def load_models(run_name: str, model_dir: Path = Path(\"./models\")) -> list[torch.nn.Module]:\n",
    "    run_dir = model_dir / run_name\n",
    "    config = yaml.safe_load((run_dir / \"config.yml\").open())\n",
    "    embedding_dim = embedding_dimensions[config[\"data\"][\"embedding_type\"]]\n",
    "    params = config[\"model\"][\"params\"]\n",
    "    model_class = model_classes[config[\"model\"][\"type\"]]\n",
    "\n",
    "    map_location = torch.device(\"cpu\") if not torch.cuda.is_available() else None\n",
    "    return [\n",
    "        model_class(n_features=embedding_dim, **params).load_state_dict(torch.load(run_dir / f\"fold_{i}.pt\", map_location=map_location))\n",
    "        for i in range(config[\"training\"][\"n_splits\"])\n",
    "    ]"
   ]
  },
  {
   "cell_type": "code",
   "execution_count": 37,
   "metadata": {},
   "outputs": [],
   "source": [
    "run_name = \"01-19 23:17_strict_prott5_fnn_epoch_1000\"\n",
    "models = load_models(run_name)"
   ]
  },
  {
   "cell_type": "code",
   "execution_count": 38,
   "metadata": {},
   "outputs": [
    {
     "data": {
      "text/plain": [
       "<All keys matched successfully>"
      ]
     },
     "execution_count": 38,
     "metadata": {},
     "output_type": "execute_result"
    }
   ],
   "source": [
    "models[0]"
   ]
  }
 ],
 "metadata": {
  "kernelspec": {
   "display_name": "Python 3",
   "language": "python",
   "name": "python3"
  },
  "language_info": {
   "codemirror_mode": {
    "name": "ipython",
    "version": 3
   },
   "file_extension": ".py",
   "mimetype": "text/x-python",
   "name": "python",
   "nbconvert_exporter": "python",
   "pygments_lexer": "ipython3",
   "version": "3.12.0"
  }
 },
 "nbformat": 4,
 "nbformat_minor": 2
}
